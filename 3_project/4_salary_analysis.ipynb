{
 "cells": [
  {
   "cell_type": "markdown",
   "metadata": {},
   "source": [
    "## How well do jobs and skills pay for Data Analysts?\n",
    "#### Methology\n",
    "\n",
    "1. Evaluate median salary for top 6 data jobs\n",
    "2. Find median salary per skill for Data Analysts\n",
    "3. Visualize for highest paying skills and most demanded skills"
   ]
  },
  {
   "cell_type": "code",
   "execution_count": 2,
   "metadata": {},
   "outputs": [
    {
     "name": "stderr",
     "output_type": "stream",
     "text": [
      "c:\\Users\\soods\\anaconda3\\envs\\python_project_course\\Lib\\site-packages\\tqdm\\auto.py:21: TqdmWarning: IProgress not found. Please update jupyter and ipywidgets. See https://ipywidgets.readthedocs.io/en/stable/user_install.html\n",
      "  from .autonotebook import tqdm as notebook_tqdm\n"
     ]
    }
   ],
   "source": [
    "# import Libraries \n",
    "import pandas as pd\n",
    "import matplotlib.pyplot as plt\n",
    "import ast \n",
    "import numpy as np\n",
    "from datasets import load_dataset\n",
    "import seaborn as sns\n",
    "\n",
    "# Loading Data\n",
    "dataset = load_dataset('lukebarousse/data_jobs')\n",
    "df = dataset['train'].to_pandas()\n",
    "\n",
    "# Data Cleanup\n",
    "df['job_posted_date'] = pd.to_datetime(df['job_posted_date'])\n",
    "df['job_skills']  = df['job_skills'].apply(lambda x : ast.literal_eval(x) if pd.notna(x) else x) "
   ]
  },
  {
   "cell_type": "markdown",
   "metadata": {},
   "source": [
    "Filter data to only include salary values from the United States."
   ]
  },
  {
   "cell_type": "code",
   "execution_count": 11,
   "metadata": {},
   "outputs": [
    {
     "data": {
      "text/html": [
       "<div>\n",
       "<style scoped>\n",
       "    .dataframe tbody tr th:only-of-type {\n",
       "        vertical-align: middle;\n",
       "    }\n",
       "\n",
       "    .dataframe tbody tr th {\n",
       "        vertical-align: top;\n",
       "    }\n",
       "\n",
       "    .dataframe thead th {\n",
       "        text-align: right;\n",
       "    }\n",
       "</style>\n",
       "<table border=\"1\" class=\"dataframe\">\n",
       "  <thead>\n",
       "    <tr style=\"text-align: right;\">\n",
       "      <th></th>\n",
       "      <th>job_title_short</th>\n",
       "      <th>job_title</th>\n",
       "      <th>job_location</th>\n",
       "      <th>job_via</th>\n",
       "      <th>job_schedule_type</th>\n",
       "      <th>job_work_from_home</th>\n",
       "      <th>search_location</th>\n",
       "      <th>job_posted_date</th>\n",
       "      <th>job_no_degree_mention</th>\n",
       "      <th>job_health_insurance</th>\n",
       "      <th>job_country</th>\n",
       "      <th>salary_rate</th>\n",
       "      <th>salary_year_avg</th>\n",
       "      <th>salary_hour_avg</th>\n",
       "      <th>company_name</th>\n",
       "      <th>job_skills</th>\n",
       "      <th>job_type_skills</th>\n",
       "    </tr>\n",
       "  </thead>\n",
       "  <tbody>\n",
       "    <tr>\n",
       "      <th>390878</th>\n",
       "      <td>Machine Learning Engineer</td>\n",
       "      <td>Machine Learning Engineer (First Resonance)</td>\n",
       "      <td>Los Angeles, CA</td>\n",
       "      <td>via Ai-Jobs.net</td>\n",
       "      <td>Full-time</td>\n",
       "      <td>False</td>\n",
       "      <td>California, United States</td>\n",
       "      <td>2023-06-27 18:01:13</td>\n",
       "      <td>False</td>\n",
       "      <td>False</td>\n",
       "      <td>United States</td>\n",
       "      <td>year</td>\n",
       "      <td>101029.0</td>\n",
       "      <td>NaN</td>\n",
       "      <td>Sea Change Advisors</td>\n",
       "      <td>[python, rust, r, aws, gcp, azure, tensorflow,...</td>\n",
       "      <td>{'cloud': ['aws', 'gcp', 'azure'], 'libraries'...</td>\n",
       "    </tr>\n",
       "    <tr>\n",
       "      <th>397164</th>\n",
       "      <td>Senior Data Analyst</td>\n",
       "      <td>Senior Analyst, Data Governance</td>\n",
       "      <td>Chicago, IL</td>\n",
       "      <td>via Idealist</td>\n",
       "      <td>Full-time</td>\n",
       "      <td>False</td>\n",
       "      <td>Illinois, United States</td>\n",
       "      <td>2023-03-08 18:01:14</td>\n",
       "      <td>False</td>\n",
       "      <td>False</td>\n",
       "      <td>United States</td>\n",
       "      <td>year</td>\n",
       "      <td>82000.0</td>\n",
       "      <td>NaN</td>\n",
       "      <td>University of Chicago - Alumni Relations &amp; Dev...</td>\n",
       "      <td>None</td>\n",
       "      <td>None</td>\n",
       "    </tr>\n",
       "    <tr>\n",
       "      <th>735504</th>\n",
       "      <td>Data Scientist</td>\n",
       "      <td>Applied Data Scientist - Ex Machina</td>\n",
       "      <td>Redwood City, CA</td>\n",
       "      <td>via Indeed</td>\n",
       "      <td>Full-time</td>\n",
       "      <td>False</td>\n",
       "      <td>California, United States</td>\n",
       "      <td>2023-03-30 21:03:29</td>\n",
       "      <td>False</td>\n",
       "      <td>True</td>\n",
       "      <td>United States</td>\n",
       "      <td>year</td>\n",
       "      <td>140000.0</td>\n",
       "      <td>NaN</td>\n",
       "      <td>C3 AI</td>\n",
       "      <td>[python, r, sql, snowflake, aws, alteryx, spss...</td>\n",
       "      <td>{'analyst_tools': ['alteryx', 'spss', 'tableau...</td>\n",
       "    </tr>\n",
       "    <tr>\n",
       "      <th>757683</th>\n",
       "      <td>Senior Data Analyst</td>\n",
       "      <td>BCSTAT Senior Data Analyst - Non-Merit</td>\n",
       "      <td>Towson, MD</td>\n",
       "      <td>via Indeed</td>\n",
       "      <td>Part-time</td>\n",
       "      <td>False</td>\n",
       "      <td>New York, United States</td>\n",
       "      <td>2023-02-24 20:00:31</td>\n",
       "      <td>False</td>\n",
       "      <td>True</td>\n",
       "      <td>United States</td>\n",
       "      <td>year</td>\n",
       "      <td>81383.5</td>\n",
       "      <td>NaN</td>\n",
       "      <td>Baltimore County, MD</td>\n",
       "      <td>[sql, sql server, express, power bi]</td>\n",
       "      <td>{'analyst_tools': ['power bi'], 'databases': [...</td>\n",
       "    </tr>\n",
       "    <tr>\n",
       "      <th>745066</th>\n",
       "      <td>Senior Data Scientist</td>\n",
       "      <td>Senior Data Scientist/Methodologist</td>\n",
       "      <td>Washington, DC</td>\n",
       "      <td>via Indeed</td>\n",
       "      <td>Full-time</td>\n",
       "      <td>False</td>\n",
       "      <td>New York, United States</td>\n",
       "      <td>2023-06-27 20:03:27</td>\n",
       "      <td>False</td>\n",
       "      <td>True</td>\n",
       "      <td>United States</td>\n",
       "      <td>year</td>\n",
       "      <td>210000.0</td>\n",
       "      <td>NaN</td>\n",
       "      <td>Bright Star Solutions LLC</td>\n",
       "      <td>[python, r]</td>\n",
       "      <td>{'programming': ['python', 'r']}</td>\n",
       "    </tr>\n",
       "  </tbody>\n",
       "</table>\n",
       "</div>"
      ],
      "text/plain": [
       "                  job_title_short  \\\n",
       "390878  Machine Learning Engineer   \n",
       "397164        Senior Data Analyst   \n",
       "735504             Data Scientist   \n",
       "757683        Senior Data Analyst   \n",
       "745066      Senior Data Scientist   \n",
       "\n",
       "                                          job_title      job_location  \\\n",
       "390878  Machine Learning Engineer (First Resonance)   Los Angeles, CA   \n",
       "397164              Senior Analyst, Data Governance       Chicago, IL   \n",
       "735504          Applied Data Scientist - Ex Machina  Redwood City, CA   \n",
       "757683       BCSTAT Senior Data Analyst - Non-Merit        Towson, MD   \n",
       "745066          Senior Data Scientist/Methodologist    Washington, DC   \n",
       "\n",
       "                job_via job_schedule_type  job_work_from_home  \\\n",
       "390878  via Ai-Jobs.net         Full-time               False   \n",
       "397164     via Idealist         Full-time               False   \n",
       "735504       via Indeed         Full-time               False   \n",
       "757683       via Indeed         Part-time               False   \n",
       "745066       via Indeed         Full-time               False   \n",
       "\n",
       "                  search_location     job_posted_date  job_no_degree_mention  \\\n",
       "390878  California, United States 2023-06-27 18:01:13                  False   \n",
       "397164    Illinois, United States 2023-03-08 18:01:14                  False   \n",
       "735504  California, United States 2023-03-30 21:03:29                  False   \n",
       "757683    New York, United States 2023-02-24 20:00:31                  False   \n",
       "745066    New York, United States 2023-06-27 20:03:27                  False   \n",
       "\n",
       "        job_health_insurance    job_country salary_rate  salary_year_avg  \\\n",
       "390878                 False  United States        year         101029.0   \n",
       "397164                 False  United States        year          82000.0   \n",
       "735504                  True  United States        year         140000.0   \n",
       "757683                  True  United States        year          81383.5   \n",
       "745066                  True  United States        year         210000.0   \n",
       "\n",
       "        salary_hour_avg                                       company_name  \\\n",
       "390878              NaN                                Sea Change Advisors   \n",
       "397164              NaN  University of Chicago - Alumni Relations & Dev...   \n",
       "735504              NaN                                              C3 AI   \n",
       "757683              NaN                               Baltimore County, MD   \n",
       "745066              NaN                          Bright Star Solutions LLC   \n",
       "\n",
       "                                               job_skills  \\\n",
       "390878  [python, rust, r, aws, gcp, azure, tensorflow,...   \n",
       "397164                                               None   \n",
       "735504  [python, r, sql, snowflake, aws, alteryx, spss...   \n",
       "757683               [sql, sql server, express, power bi]   \n",
       "745066                                        [python, r]   \n",
       "\n",
       "                                          job_type_skills  \n",
       "390878  {'cloud': ['aws', 'gcp', 'azure'], 'libraries'...  \n",
       "397164                                               None  \n",
       "735504  {'analyst_tools': ['alteryx', 'spss', 'tableau...  \n",
       "757683  {'analyst_tools': ['power bi'], 'databases': [...  \n",
       "745066                   {'programming': ['python', 'r']}  "
      ]
     },
     "execution_count": 11,
     "metadata": {},
     "output_type": "execute_result"
    }
   ],
   "source": [
    "df_us = df[df['job_country'] == \"United States\"].dropna(subset='salary_year_avg').copy() # ------------> dataframe contaning only us records\n",
    "df_us.sample(5)"
   ]
  },
  {
   "cell_type": "markdown",
   "metadata": {},
   "source": [
    "Create a list of the top job_titles in the dataset and filter our dataframe to only contain these job titles."
   ]
  },
  {
   "cell_type": "code",
   "execution_count": 4,
   "metadata": {},
   "outputs": [
    {
     "data": {
      "text/plain": [
       "['Data Scientist',\n",
       " 'Data Analyst',\n",
       " 'Data Engineer',\n",
       " 'Senior Data Scientist',\n",
       " 'Senior Data Engineer',\n",
       " 'Senior Data Analyst']"
      ]
     },
     "execution_count": 4,
     "metadata": {},
     "output_type": "execute_result"
    }
   ],
   "source": [
    "job_titles = df_us['job_title_short'].value_counts().index[:6].tolist()\n",
    "job_titles"
   ]
  },
  {
   "cell_type": "code",
   "execution_count": 14,
   "metadata": {},
   "outputs": [
    {
     "data": {
      "text/plain": [
       "Index(['Senior Data Scientist', 'Senior Data Engineer', 'Data Scientist',\n",
       "       'Data Engineer', 'Senior Data Analyst', 'Data Analyst'],\n",
       "      dtype='object', name='job_title_short')"
      ]
     },
     "execution_count": 14,
     "metadata": {},
     "output_type": "execute_result"
    }
   ],
   "source": [
    "df_us_top6 = df_us[df_us['job_title_short'].isin(job_titles)] #----------> Filtering only those rows which have any 1 of the 6 job titles in it\n",
    "job_order  = df_us_top6.groupby('job_title_short')['salary_year_avg'].median().sort_values(ascending= False).index\n",
    "job_order"
   ]
  },
  {
   "cell_type": "markdown",
   "metadata": {},
   "source": [
    "## Plot Salary Distributions\n",
    "\n",
    "Plot the top 6 job titles salary distributions using a box plot."
   ]
  },
  {
   "cell_type": "code",
   "execution_count": 6,
   "metadata": {},
   "outputs": [
    {
     "data": {
      "image/png": "[encoded data removed]",
      "text/plain": [
       "<Figure size 640x480 with 1 Axes>"
      ]
     },
     "metadata": {},
     "output_type": "display_data"
    }
   ],
   "source": [
    "salary_list = [df_us_top6[df_us_top6['job_title_short'] == jt]['salary_year_avg'] for jt in job_titles]\n",
    "\n",
    "#plt.boxplot(job_list, labels = job_title, vert = False)\n",
    "\n",
    "sns.boxplot(data = df_us_top6 , x= 'salary_year_avg', y='job_title_short', order= job_order)\n",
    "plt.title('Salary distribution in U.S.')\n",
    "plt.xlabel('yearly salary $')\n",
    "plt.ylabel('')\n",
    "ax = plt.gca()\n",
    "ax.xaxis.set_major_formatter(plt.FuncFormatter(lambda x ,__ : f'${int(x/1000)}k'))\n",
    "plt.xlim(0,650000)\n",
    "plt.show()"
   ]
  },
  {
   "cell_type": "markdown",
   "metadata": {},
   "source": [
    "## Investigating Median Salary VS Skill for Data Analyst\n",
    "\n",
    "Filters the original dataset to only get rows where the job title is 'Data Analyst' and the country is 'United States', to create a new DataFrame df_DA_US. Drop NaN values from the 'salary_year_avg' column. Then it uses the explode method on the job_skills column to create a new row in the DataFrame for each skill associated with a job. Finally, it displays the first five entries of the salary_year_avg and job_skills columns.\n"
   ]
  },
  {
   "cell_type": "code",
   "execution_count": 7,
   "metadata": {},
   "outputs": [
    {
     "data": {
      "text/html": [
       "<div>\n",
       "<style scoped>\n",
       "    .dataframe tbody tr th:only-of-type {\n",
       "        vertical-align: middle;\n",
       "    }\n",
       "\n",
       "    .dataframe tbody tr th {\n",
       "        vertical-align: top;\n",
       "    }\n",
       "\n",
       "    .dataframe thead th {\n",
       "        text-align: right;\n",
       "    }\n",
       "</style>\n",
       "<table border=\"1\" class=\"dataframe\">\n",
       "  <thead>\n",
       "    <tr style=\"text-align: right;\">\n",
       "      <th></th>\n",
       "      <th>job_skills</th>\n",
       "      <th>salary_year_avg</th>\n",
       "    </tr>\n",
       "  </thead>\n",
       "  <tbody>\n",
       "    <tr>\n",
       "      <th>109</th>\n",
       "      <td>python</td>\n",
       "      <td>89000.0</td>\n",
       "    </tr>\n",
       "    <tr>\n",
       "      <th>109</th>\n",
       "      <td>r</td>\n",
       "      <td>89000.0</td>\n",
       "    </tr>\n",
       "    <tr>\n",
       "      <th>109</th>\n",
       "      <td>alteryx</td>\n",
       "      <td>89000.0</td>\n",
       "    </tr>\n",
       "    <tr>\n",
       "      <th>109</th>\n",
       "      <td>tableau</td>\n",
       "      <td>89000.0</td>\n",
       "    </tr>\n",
       "    <tr>\n",
       "      <th>180</th>\n",
       "      <td>excel</td>\n",
       "      <td>90250.0</td>\n",
       "    </tr>\n",
       "  </tbody>\n",
       "</table>\n",
       "</div>"
      ],
      "text/plain": [
       "    job_skills  salary_year_avg\n",
       "109     python          89000.0\n",
       "109          r          89000.0\n",
       "109    alteryx          89000.0\n",
       "109    tableau          89000.0\n",
       "180      excel          90250.0"
      ]
     },
     "execution_count": 7,
     "metadata": {},
     "output_type": "execute_result"
    }
   ],
   "source": [
    "df_us_da = df_us[(df_us['job_title_short'] == 'Data Analyst') & (df_us['job_country'] == 'United States')].copy()\n",
    "df_us_da.dropna(subset='salary_year_avg', inplace=True)\n",
    "df_us_da = df_us_da.explode('job_skills')\n",
    "df_us_da[['job_skills','salary_year_avg']].head(5)"
   ]
  },
  {
   "cell_type": "markdown",
   "metadata": {},
   "source": [
    "## Determine The Highest Paid Skills\n"
   ]
  },
  {
   "cell_type": "code",
   "execution_count": 8,
   "metadata": {},
   "outputs": [
    {
     "data": {
      "text/html": [
       "<div>\n",
       "<style scoped>\n",
       "    .dataframe tbody tr th:only-of-type {\n",
       "        vertical-align: middle;\n",
       "    }\n",
       "\n",
       "    .dataframe tbody tr th {\n",
       "        vertical-align: top;\n",
       "    }\n",
       "\n",
       "    .dataframe thead th {\n",
       "        text-align: right;\n",
       "    }\n",
       "</style>\n",
       "<table border=\"1\" class=\"dataframe\">\n",
       "  <thead>\n",
       "    <tr style=\"text-align: right;\">\n",
       "      <th></th>\n",
       "      <th>count_of_skill</th>\n",
       "      <th>median_sal</th>\n",
       "    </tr>\n",
       "    <tr>\n",
       "      <th>job_skills</th>\n",
       "      <th></th>\n",
       "      <th></th>\n",
       "    </tr>\n",
       "  </thead>\n",
       "  <tbody>\n",
       "    <tr>\n",
       "      <th>dplyr</th>\n",
       "      <td>2</td>\n",
       "      <td>196250.0</td>\n",
       "    </tr>\n",
       "    <tr>\n",
       "      <th>bitbucket</th>\n",
       "      <td>3</td>\n",
       "      <td>189000.0</td>\n",
       "    </tr>\n",
       "    <tr>\n",
       "      <th>gitlab</th>\n",
       "      <td>3</td>\n",
       "      <td>186000.0</td>\n",
       "    </tr>\n",
       "    <tr>\n",
       "      <th>solidity</th>\n",
       "      <td>1</td>\n",
       "      <td>179000.0</td>\n",
       "    </tr>\n",
       "    <tr>\n",
       "      <th>hugging face</th>\n",
       "      <td>1</td>\n",
       "      <td>175000.0</td>\n",
       "    </tr>\n",
       "    <tr>\n",
       "      <th>couchbase</th>\n",
       "      <td>1</td>\n",
       "      <td>160515.0</td>\n",
       "    </tr>\n",
       "    <tr>\n",
       "      <th>ansible</th>\n",
       "      <td>1</td>\n",
       "      <td>159640.0</td>\n",
       "    </tr>\n",
       "    <tr>\n",
       "      <th>mxnet</th>\n",
       "      <td>2</td>\n",
       "      <td>149000.0</td>\n",
       "    </tr>\n",
       "    <tr>\n",
       "      <th>cassandra</th>\n",
       "      <td>6</td>\n",
       "      <td>148250.0</td>\n",
       "    </tr>\n",
       "    <tr>\n",
       "      <th>vmware</th>\n",
       "      <td>1</td>\n",
       "      <td>147500.0</td>\n",
       "    </tr>\n",
       "  </tbody>\n",
       "</table>\n",
       "</div>"
      ],
      "text/plain": [
       "              count_of_skill  median_sal\n",
       "job_skills                              \n",
       "dplyr                      2    196250.0\n",
       "bitbucket                  3    189000.0\n",
       "gitlab                     3    186000.0\n",
       "solidity                   1    179000.0\n",
       "hugging face               1    175000.0\n",
       "couchbase                  1    160515.0\n",
       "ansible                    1    159640.0\n",
       "mxnet                      2    149000.0\n",
       "cassandra                  6    148250.0\n",
       "vmware                     1    147500.0"
      ]
     },
     "execution_count": 8,
     "metadata": {},
     "output_type": "execute_result"
    }
   ],
   "source": [
    "df_us_top_pay_skill = df_us_da.groupby('job_skills').agg(\n",
    "    count_of_skill = ('job_skills', 'count'),\n",
    "    median_sal = ('salary_year_avg','median')           #----------> top pay based on median salary\n",
    ").sort_values(by='median_sal', ascending= False)\n",
    "\n",
    "df_us_top_pay_skill = df_us_top_pay_skill.head(10)\n",
    "df_us_top_pay_skill"
   ]
  },
  {
   "cell_type": "markdown",
   "metadata": {},
   "source": [
    "## Determine Most Demanded Skills"
   ]
  },
  {
   "cell_type": "code",
   "execution_count": null,
   "metadata": {},
   "outputs": [
    {
     "data": {
      "text/html": [
       "<div>\n",
       "<style scoped>\n",
       "    .dataframe tbody tr th:only-of-type {\n",
       "        vertical-align: middle;\n",
       "    }\n",
       "\n",
       "    .dataframe tbody tr th {\n",
       "        vertical-align: top;\n",
       "    }\n",
       "\n",
       "    .dataframe thead th {\n",
       "        text-align: right;\n",
       "    }\n",
       "</style>\n",
       "<table border=\"1\" class=\"dataframe\">\n",
       "  <thead>\n",
       "    <tr style=\"text-align: right;\">\n",
       "      <th></th>\n",
       "      <th>count_of_skill</th>\n",
       "      <th>median_sal</th>\n",
       "    </tr>\n",
       "    <tr>\n",
       "      <th>job_skills</th>\n",
       "      <th></th>\n",
       "      <th></th>\n",
       "    </tr>\n",
       "  </thead>\n",
       "  <tbody>\n",
       "    <tr>\n",
       "      <th>python</th>\n",
       "      <td>1431</td>\n",
       "      <td>97500.00</td>\n",
       "    </tr>\n",
       "    <tr>\n",
       "      <th>tableau</th>\n",
       "      <td>1364</td>\n",
       "      <td>92875.00</td>\n",
       "    </tr>\n",
       "    <tr>\n",
       "      <th>r</th>\n",
       "      <td>893</td>\n",
       "      <td>92500.00</td>\n",
       "    </tr>\n",
       "    <tr>\n",
       "      <th>sql server</th>\n",
       "      <td>286</td>\n",
       "      <td>92500.00</td>\n",
       "    </tr>\n",
       "    <tr>\n",
       "      <th>sql</th>\n",
       "      <td>2508</td>\n",
       "      <td>91000.00</td>\n",
       "    </tr>\n",
       "    <tr>\n",
       "      <th>sas</th>\n",
       "      <td>926</td>\n",
       "      <td>90000.00</td>\n",
       "    </tr>\n",
       "    <tr>\n",
       "      <th>power bi</th>\n",
       "      <td>838</td>\n",
       "      <td>90000.00</td>\n",
       "    </tr>\n",
       "    <tr>\n",
       "      <th>powerpoint</th>\n",
       "      <td>462</td>\n",
       "      <td>85000.00</td>\n",
       "    </tr>\n",
       "    <tr>\n",
       "      <th>excel</th>\n",
       "      <td>1808</td>\n",
       "      <td>84392.00</td>\n",
       "    </tr>\n",
       "    <tr>\n",
       "      <th>word</th>\n",
       "      <td>461</td>\n",
       "      <td>81194.75</td>\n",
       "    </tr>\n",
       "  </tbody>\n",
       "</table>\n",
       "</div>"
      ],
      "text/plain": [
       "            count_of_skill  median_sal\n",
       "job_skills                            \n",
       "python                1431    97500.00\n",
       "tableau               1364    92875.00\n",
       "r                      893    92500.00\n",
       "sql server             286    92500.00\n",
       "sql                   2508    91000.00\n",
       "sas                    926    90000.00\n",
       "power bi               838    90000.00\n",
       "powerpoint             462    85000.00\n",
       "excel                 1808    84392.00\n",
       "word                   461    81194.75"
      ]
     },
     "execution_count": 9,
     "metadata": {},
     "output_type": "execute_result"
    }
   ],
   "source": [
    "df_us_top_skill = df_us_da.groupby('job_skills').agg(\n",
    "    count_of_skill = ('job_skills', 'count'),       #----------> top pay based on skill popularity\n",
    "    median_sal = ('salary_year_avg','median')       \n",
    ").sort_values(by='count_of_skill', ascending= False)\n",
    "\n",
    "df_us_top_skill = df_us_top_skill.head(10)\n",
    "df_us_top_skill = df_us_top_skill.sort_values(by='median_sal', ascending= False)\n",
    "df_us_top_skill"
   ]
  },
  {
   "cell_type": "markdown",
   "metadata": {},
   "source": [
    "Creates two horizontal bar charts:\n",
    "\n",
    "1. Displays the highest paid skills\n",
    "2. Shows the most in demand skills"
   ]
  },
  {
   "cell_type": "code",
   "execution_count": 10,
   "metadata": {},
   "outputs": [
    {
     "data": {
      "image/png": "[encoded data removed]",
      "text/plain": [
       "<Figure size 640x480 with 2 Axes>"
      ]
     },
     "metadata": {},
     "output_type": "display_data"
    }
   ],
   "source": [
    "fig , ax = plt.subplots(2,1)\n",
    "\n",
    "sns.set_theme(style='ticks')\n",
    "\n",
    "sns.barplot(data=df_us_top_pay_skill, x= 'median_sal', y=df_us_top_pay_skill.index, ax = ax[1], hue = 'median_sal', palette='dark:b_r')\n",
    "ax[1].set_title('Top 10 salary for Most in demand skills for Data Analyst')\n",
    "ax[1].set_xlabel('')\n",
    "ax[1].set_ylabel('')\n",
    "ax[1].xaxis.set_major_formatter(plt.FuncFormatter(lambda x ,__ : f'${int(x/1000)}k'))\n",
    "ax[1].legend().remove()\n",
    "\n",
    "\n",
    "sns.barplot(data=df_us_top_skill, x= 'median_sal', y=df_us_top_skill.index, ax = ax[0], hue = 'median_sal', palette='light:b')\n",
    "ax[0].set_xlim(ax[1].get_xlim())\n",
    "ax[0].set_title('Top 10 highest paid skills for Data Analyst')\n",
    "ax[0].set_xlabel('')\n",
    "ax[0].set_ylabel('')\n",
    "ax[0].xaxis.set_major_formatter(plt.FuncFormatter(lambda x ,__ : f'${int(x/1000)}k'))\n",
    "ax[0].legend().remove()\n",
    "\n",
    "\n",
    "fig.tight_layout()\n",
    "plt.show()"
   ]
  },
  {
   "cell_type": "code",
   "execution_count": null,
   "metadata": {},
   "outputs": [],
   "source": []
  }
 ],
 "metadata": {
  "kernelspec": {
   "display_name": "python_project_course",
   "language": "python",
   "name": "python3"
  },
  "language_info": {
   "codemirror_mode": {
    "name": "ipython",
    "version": 3
   },
   "file_extension": ".py",
   "mimetype": "text/x-python",
   "name": "python",
   "nbconvert_exporter": "python",
   "pygments_lexer": "ipython3",
   "version": "3.11.11"
  }
 },
 "nbformat": 4,
 "nbformat_minor": 2
}
